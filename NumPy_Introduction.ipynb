{
 "cells": [
  {
   "cell_type": "markdown",
   "metadata": {},
   "source": [
    "#### Notes "
   ]
  },
  {
   "cell_type": "markdown",
   "metadata": {},
   "source": [
    "    1. axis=0 denotes Y axis and axis=1 denotes X axis\n",
    "\n",
    "    2.Be careful when copying arrays. Instead of using '=' sign, which doesn't copy something but points to the same memory location as the item to the right of '=' does, we should use copy() or deepcopy() function."
   ]
  },
  {
   "cell_type": "markdown",
   "metadata": {},
   "source": [
    "#### Import Statements "
   ]
  },
  {
   "cell_type": "code",
   "execution_count": 1,
   "metadata": {
    "ExecuteTime": {
     "end_time": "2020-11-05T15:16:21.944695Z",
     "start_time": "2020-11-05T15:16:21.841053Z"
    }
   },
   "outputs": [],
   "source": [
    "import numpy as np"
   ]
  },
  {
   "cell_type": "markdown",
   "metadata": {},
   "source": [
    " "
   ]
  },
  {
   "cell_type": "markdown",
   "metadata": {},
   "source": [
    "- Some Basic Methods"
   ]
  },
  {
   "cell_type": "markdown",
   "metadata": {
    "ExecuteTime": {
     "end_time": "2020-10-31T09:31:06.498593Z",
     "start_time": "2020-10-31T09:31:06.473930Z"
    },
    "jupyter": {
     "outputs_hidden": true
    }
   },
   "source": [
    "    .ndim  # Get the Dimension of an array\n",
    "    .shape  # Get the Shape of an array\n",
    "    .dtype  # Get the Data Type of an array\n",
    "    .itemsize  # Get the memory allocation size of an item from an array (in bytes)\n",
    "    .size  # Get total number of elements in an array\n",
    "    .nbytes  # Get total memory allocation size of an array (in bytes)"
   ]
  },
  {
   "cell_type": "markdown",
   "metadata": {
    "ExecuteTime": {
     "end_time": "2020-10-31T09:31:06.498593Z",
     "start_time": "2020-10-31T09:31:06.473930Z"
    },
    "jupyter": {
     "outputs_hidden": true
    }
   },
   "source": [
    "- Creating an Array"
   ]
  },
  {
   "cell_type": "code",
   "execution_count": 2,
   "metadata": {
    "ExecuteTime": {
     "end_time": "2020-10-31T09:31:06.498593Z",
     "start_time": "2020-10-31T09:31:06.473930Z"
    }
   },
   "outputs": [],
   "source": [
    "a = np.array([[1, 2, 3, 3.8], [4, 5, 6, 6.7], [7, 8, 9, 9.6]])"
   ]
  },
  {
   "cell_type": "code",
   "execution_count": 3,
   "metadata": {
    "ExecuteTime": {
     "end_time": "2020-11-05T15:16:22.416580Z",
     "start_time": "2020-11-05T15:16:22.352162Z"
    }
   },
   "outputs": [],
   "source": [
    "b = np.array([[1, 2, 3, 4, 5, 6, 7, 8, 9],\n",
    "              [10, 11, 12, 13, 14, 15, 16, 17, 18]])"
   ]
  },
  {
   "cell_type": "markdown",
   "metadata": {},
   "source": [
    "   "
   ]
  },
  {
   "cell_type": "markdown",
   "metadata": {},
   "source": [
    "## Initializing Different Types of Arrays"
   ]
  },
  {
   "cell_type": "code",
   "execution_count": 4,
   "metadata": {
    "ExecuteTime": {
     "end_time": "2020-10-31T09:31:08.435216Z",
     "start_time": "2020-10-31T09:31:08.341274Z"
    }
   },
   "outputs": [],
   "source": [
    "# All 0s Matrix"
   ]
  },
  {
   "cell_type": "code",
   "execution_count": 5,
   "metadata": {
    "ExecuteTime": {
     "end_time": "2020-11-05T15:16:22.914014Z",
     "start_time": "2020-11-05T15:16:22.832140Z"
    }
   },
   "outputs": [
    {
     "data": {
      "text/plain": [
       "array([[[0., 0.],\n",
       "        [0., 0.],\n",
       "        [0., 0.]],\n",
       "\n",
       "       [[0., 0.],\n",
       "        [0., 0.],\n",
       "        [0., 0.]]])"
      ]
     },
     "execution_count": 5,
     "metadata": {},
     "output_type": "execute_result"
    }
   ],
   "source": [
    "np.zeros((2, 3, 2))  # takes in a tuple describing the shape of the matrix"
   ]
  },
  {
   "cell_type": "code",
   "execution_count": 6,
   "metadata": {
    "ExecuteTime": {
     "end_time": "2020-10-31T09:31:08.520355Z",
     "start_time": "2020-10-31T09:31:08.442093Z"
    }
   },
   "outputs": [],
   "source": [
    "# All 1s Matrix"
   ]
  },
  {
   "cell_type": "code",
   "execution_count": 7,
   "metadata": {
    "ExecuteTime": {
     "end_time": "2020-11-05T15:16:23.035662Z",
     "start_time": "2020-11-05T15:16:22.915479Z"
    }
   },
   "outputs": [
    {
     "data": {
      "text/plain": [
       "array([[[1., 1., 1.],\n",
       "        [1., 1., 1.]],\n",
       "\n",
       "       [[1., 1., 1.],\n",
       "        [1., 1., 1.]],\n",
       "\n",
       "       [[1., 1., 1.],\n",
       "        [1., 1., 1.]]])"
      ]
     },
     "execution_count": 7,
     "metadata": {},
     "output_type": "execute_result"
    }
   ],
   "source": [
    "np.ones((3, 2, 3))  # takes in a tuple describing the shape of the matrix"
   ]
  },
  {
   "cell_type": "code",
   "execution_count": 8,
   "metadata": {
    "ExecuteTime": {
     "end_time": "2020-10-31T09:31:08.603285Z",
     "start_time": "2020-10-31T09:31:08.526765Z"
    }
   },
   "outputs": [],
   "source": [
    "# A Matrix where All the elements are same (any number)"
   ]
  },
  {
   "cell_type": "code",
   "execution_count": 9,
   "metadata": {
    "ExecuteTime": {
     "end_time": "2020-11-05T15:16:23.881216Z",
     "start_time": "2020-11-05T15:16:23.037094Z"
    }
   },
   "outputs": [
    {
     "name": "stdout",
     "output_type": "stream",
     "text": [
      "-> A 3x3x3 Matrix of all 2s:\n",
      "\n",
      "[[[2 2 2]\n",
      "  [2 2 2]\n",
      "  [2 2 2]]\n",
      "\n",
      " [[2 2 2]\n",
      "  [2 2 2]\n",
      "  [2 2 2]]\n",
      "\n",
      " [[2 2 2]\n",
      "  [2 2 2]\n",
      "  [2 2 2]]]\n",
      "\n",
      "->A Matrix of all 3s of the same shape as b:\n",
      "\n",
      "[[3 3 3 3 3 3 3 3 3]\n",
      " [3 3 3 3 3 3 3 3 3]]\n"
     ]
    }
   ],
   "source": [
    "print(\"-> A 3x3x3 Matrix of all 2s:\\n\")\n",
    "print(np.full((3, 3, 3),\n",
    "              2))  # takes in a tuple describing the shape of the matrix\n",
    "\n",
    "print(\"\\n->A Matrix of all 3s of the same shape as b:\\n\")\n",
    "print(np.full_like(b, 3))  # np.full(a.shape, 3) has same effect"
   ]
  },
  {
   "cell_type": "code",
   "execution_count": 10,
   "metadata": {
    "ExecuteTime": {
     "end_time": "2020-10-31T09:42:03.713906Z",
     "start_time": "2020-10-31T09:42:03.705006Z"
    }
   },
   "outputs": [],
   "source": [
    "# Identity Matrix of size 'n'"
   ]
  },
  {
   "cell_type": "code",
   "execution_count": 11,
   "metadata": {
    "ExecuteTime": {
     "end_time": "2020-11-05T15:16:24.274422Z",
     "start_time": "2020-11-05T15:16:24.198588Z"
    }
   },
   "outputs": [
    {
     "name": "stdout",
     "output_type": "stream",
     "text": [
      "[[1. 0. 0. 0. 0.]\n",
      " [0. 1. 0. 0. 0.]\n",
      " [0. 0. 1. 0. 0.]\n",
      " [0. 0. 0. 1. 0.]\n",
      " [0. 0. 0. 0. 1.]]\n"
     ]
    }
   ],
   "source": [
    "print(np.identity(5))"
   ]
  },
  {
   "cell_type": "markdown",
   "metadata": {
    "ExecuteTime": {
     "end_time": "2020-10-31T09:36:39.900101Z",
     "start_time": "2020-10-31T09:36:39.889980Z"
    }
   },
   "source": [
    "- Matrices of random numbers"
   ]
  },
  {
   "cell_type": "code",
   "execution_count": 12,
   "metadata": {},
   "outputs": [],
   "source": [
    "# A Matrix of random decimal numbers between 0 and 1"
   ]
  },
  {
   "cell_type": "code",
   "execution_count": 13,
   "metadata": {
    "ExecuteTime": {
     "end_time": "2020-11-05T15:16:23.963726Z",
     "start_time": "2020-11-05T15:16:23.886746Z"
    }
   },
   "outputs": [
    {
     "name": "stdout",
     "output_type": "stream",
     "text": [
      "[[0.50269611 0.67079657 0.34372377]\n",
      " [0.29370556 0.59614622 0.38099417]\n",
      " [0.95967533 0.89741807 0.67851104]]\n"
     ]
    }
   ],
   "source": [
    "print(np.random.rand(3, 3))"
   ]
  },
  {
   "cell_type": "code",
   "execution_count": 14,
   "metadata": {
    "ExecuteTime": {
     "end_time": "2020-10-31T09:36:39.900101Z",
     "start_time": "2020-10-31T09:36:39.889980Z"
    }
   },
   "outputs": [],
   "source": [
    "# A Matrix of random decimal numbers between 0 and 1 of the same shape as some predefined matrix 'a'"
   ]
  },
  {
   "cell_type": "code",
   "execution_count": 15,
   "metadata": {
    "ExecuteTime": {
     "end_time": "2020-11-05T15:16:24.040338Z",
     "start_time": "2020-11-05T15:16:23.965579Z"
    }
   },
   "outputs": [
    {
     "name": "stdout",
     "output_type": "stream",
     "text": [
      "[[0.26919591 0.75978116 0.39861991 0.66213961 0.17103676 0.19660147\n",
      "  0.59136893 0.21806396 0.06841849]\n",
      " [0.63261851 0.58492853 0.13009952 0.96833613 0.36736376 0.01202519\n",
      "  0.69347194 0.45846625 0.79282243]]\n"
     ]
    }
   ],
   "source": [
    "print(np.random.random_sample(b.shape))"
   ]
  },
  {
   "cell_type": "code",
   "execution_count": 16,
   "metadata": {
    "ExecuteTime": {
     "end_time": "2020-10-31T09:41:17.611015Z",
     "start_time": "2020-10-31T09:41:17.565023Z"
    }
   },
   "outputs": [],
   "source": [
    "# A Matrix of random integer numbers between x and y"
   ]
  },
  {
   "cell_type": "code",
   "execution_count": 17,
   "metadata": {
    "ExecuteTime": {
     "end_time": "2020-11-05T15:16:24.118523Z",
     "start_time": "2020-11-05T15:16:24.041877Z"
    }
   },
   "outputs": [
    {
     "name": "stdout",
     "output_type": "stream",
     "text": [
      "[[ 6  7]\n",
      " [ 2  0]\n",
      " [-2  3]]\n"
     ]
    }
   ],
   "source": [
    "print(np.random.randint(-4, 8, size=(3, 2), dtype=\"int16\"))  # y is exclusive"
   ]
  },
  {
   "cell_type": "code",
   "execution_count": 18,
   "metadata": {},
   "outputs": [],
   "source": [
    "# A random Normal Distribution "
   ]
  },
  {
   "cell_type": "code",
   "execution_count": 54,
   "metadata": {},
   "outputs": [
    {
     "data": {
      "text/plain": [
       "array([-0.62542897, -0.17154826,  0.50529937, -0.26135642, -0.24274908,\n",
       "       -1.45324141,  0.55458031,  0.12388091,  0.27445992, -1.52652453,\n",
       "        1.65069969,  0.15433554, -0.38713994,  2.02907222, -0.04538603,\n",
       "       -1.4506787 , -0.40522786, -2.2883151 ,  1.04939655, -0.41647432])"
      ]
     },
     "execution_count": 54,
     "metadata": {},
     "output_type": "execute_result"
    }
   ],
   "source": [
    "np.random.randn(20)"
   ]
  },
  {
   "cell_type": "markdown",
   "metadata": {},
   "source": [
    "- Numpy Random Seed"
   ]
  },
  {
   "cell_type": "markdown",
   "metadata": {
    "ExecuteTime": {
     "end_time": "2020-11-05T15:16:24.194902Z",
     "start_time": "2020-11-05T15:16:24.119785Z"
    },
    "jupyter": {
     "outputs_hidden": true
    }
   },
   "source": [
    "> what random.seed does is it produces an Array of Pseudo-random Numbers which is reproduceable across Notebooks if used with the same seed value."
   ]
  },
  {
   "cell_type": "code",
   "execution_count": 20,
   "metadata": {
    "ExecuteTime": {
     "end_time": "2020-11-05T15:16:24.194902Z",
     "start_time": "2020-11-05T15:16:24.119785Z"
    }
   },
   "outputs": [
    {
     "name": "stdout",
     "output_type": "stream",
     "text": [
      "[[0.07630829 0.77991879 0.43840923 0.72346518]\n",
      " [0.97798951 0.53849587 0.50112046 0.07205113]\n",
      " [0.26843898 0.4998825  0.67923    0.80373904]]\n"
     ]
    }
   ],
   "source": [
    "np.random.seed(seed=7)\n",
    "print(np.random.random((3, 4)))"
   ]
  },
  {
   "cell_type": "markdown",
   "metadata": {},
   "source": [
    "#### 3D Array Example"
   ]
  },
  {
   "cell_type": "code",
   "execution_count": 21,
   "metadata": {
    "ExecuteTime": {
     "end_time": "2020-11-05T15:16:22.830697Z",
     "start_time": "2020-11-05T15:16:22.766737Z"
    }
   },
   "outputs": [
    {
     "name": "stdout",
     "output_type": "stream",
     "text": [
      "[[[ 1  2]\n",
      "  [ 3  4]]\n",
      "\n",
      " [[ 5  6]\n",
      "  [ 7  8]]\n",
      "\n",
      " [[ 9 10]\n",
      "  [11 12]]]\n"
     ]
    }
   ],
   "source": [
    "c = np.array([[[1, 2], [3, 4]], [[5, 6], [7, 8]], [[9, 10], [11, 12]]])\n",
    "print(c)\n",
    "# tip: to access 3d arrays work outside in"
   ]
  },
  {
   "cell_type": "markdown",
   "metadata": {},
   "source": [
    "## Accessing/Changing Specific Elements, Rows, Columns etc. (Array Slicing)"
   ]
  },
  {
   "cell_type": "code",
   "execution_count": 22,
   "metadata": {
    "ExecuteTime": {
     "end_time": "2020-10-31T09:31:07.104461Z",
     "start_time": "2020-10-31T09:31:07.036544Z"
    }
   },
   "outputs": [],
   "source": [
    "# Get a specific Element [r, c]"
   ]
  },
  {
   "cell_type": "code",
   "execution_count": 23,
   "metadata": {
    "ExecuteTime": {
     "end_time": "2020-11-05T15:16:22.499670Z",
     "start_time": "2020-11-05T15:16:22.417802Z"
    }
   },
   "outputs": [
    {
     "name": "stdout",
     "output_type": "stream",
     "text": [
      "8\n",
      "8\n"
     ]
    }
   ],
   "source": [
    "print(b[0, 7])\n",
    "print(b[0, -2])"
   ]
  },
  {
   "cell_type": "code",
   "execution_count": 24,
   "metadata": {
    "ExecuteTime": {
     "end_time": "2020-10-31T09:31:07.168870Z",
     "start_time": "2020-10-31T09:31:07.108872Z"
    }
   },
   "outputs": [],
   "source": [
    "# Get a specific row"
   ]
  },
  {
   "cell_type": "code",
   "execution_count": 25,
   "metadata": {
    "ExecuteTime": {
     "end_time": "2020-11-05T15:16:22.566817Z",
     "start_time": "2020-11-05T15:16:22.501092Z"
    }
   },
   "outputs": [
    {
     "name": "stdout",
     "output_type": "stream",
     "text": [
      "[10 11 12 13 14 15 16 17 18]\n"
     ]
    }
   ],
   "source": [
    "print(b[1, :])"
   ]
  },
  {
   "cell_type": "code",
   "execution_count": 26,
   "metadata": {
    "ExecuteTime": {
     "end_time": "2020-10-31T09:31:07.238544Z",
     "start_time": "2020-10-31T09:31:07.171516Z"
    }
   },
   "outputs": [],
   "source": [
    "# Get a specific column"
   ]
  },
  {
   "cell_type": "code",
   "execution_count": 27,
   "metadata": {
    "ExecuteTime": {
     "end_time": "2020-11-05T15:16:22.632448Z",
     "start_time": "2020-11-05T15:16:22.568161Z"
    }
   },
   "outputs": [
    {
     "name": "stdout",
     "output_type": "stream",
     "text": [
      "[ 9 18]\n"
     ]
    }
   ],
   "source": [
    "print(b[:, 8])"
   ]
  },
  {
   "cell_type": "code",
   "execution_count": 28,
   "metadata": {
    "ExecuteTime": {
     "end_time": "2020-10-31T09:31:07.710212Z",
     "start_time": "2020-10-31T09:31:07.242086Z"
    }
   },
   "outputs": [],
   "source": [
    "# Slicing a portion out of a column or a row [start_idx:end_idx:step_size]"
   ]
  },
  {
   "cell_type": "code",
   "execution_count": 29,
   "metadata": {
    "ExecuteTime": {
     "end_time": "2020-11-05T15:16:22.701116Z",
     "start_time": "2020-11-05T15:16:22.633820Z"
    }
   },
   "outputs": [
    {
     "name": "stdout",
     "output_type": "stream",
     "text": [
      "[18 17 16 15 14 13 12]\n",
      "[3 5 7]\n"
     ]
    }
   ],
   "source": [
    "print(b[1, 8:1:-1])\n",
    "print(b[0, 2:8:2])"
   ]
  },
  {
   "cell_type": "code",
   "execution_count": 30,
   "metadata": {
    "ExecuteTime": {
     "end_time": "2020-10-31T09:31:08.270728Z",
     "start_time": "2020-10-31T09:31:07.719475Z"
    }
   },
   "outputs": [],
   "source": [
    "# Replacing a particular element or a portion or a full row/column"
   ]
  },
  {
   "cell_type": "code",
   "execution_count": 31,
   "metadata": {
    "ExecuteTime": {
     "end_time": "2020-11-05T15:16:22.765207Z",
     "start_time": "2020-11-05T15:16:22.702671Z"
    }
   },
   "outputs": [
    {
     "name": "stdout",
     "output_type": "stream",
     "text": [
      "[[ 1  2  3  4 20  6  7  8  9]\n",
      " [10 22 24 26 14 15 16 17 18]]\n"
     ]
    }
   ],
   "source": [
    "b[0, 4] = 20\n",
    "b[1, 1:4] = [22, 24, 26]\n",
    "print(b)"
   ]
  },
  {
   "cell_type": "markdown",
   "metadata": {
    "ExecuteTime": {
     "end_time": "2020-10-31T09:57:26.765207Z",
     "start_time": "2020-10-31T09:57:26.755555Z"
    }
   },
   "source": [
    "- Repeating an array"
   ]
  },
  {
   "cell_type": "code",
   "execution_count": 32,
   "metadata": {
    "ExecuteTime": {
     "end_time": "2020-11-05T15:16:24.349411Z",
     "start_time": "2020-11-05T15:16:24.276749Z"
    }
   },
   "outputs": [
    {
     "name": "stdout",
     "output_type": "stream",
     "text": [
      "[[1 2 3]]\n",
      "[[1 1 1 2 2 2 3 3 3]]\n"
     ]
    }
   ],
   "source": [
    "d = np.array([[1, 2, 3]])\n",
    "print(d)\n",
    "print(np.repeat(\n",
    "    d, 3,\n",
    "    axis=1))"
   ]
  },
  {
   "cell_type": "markdown",
   "metadata": {
    "ExecuteTime": {
     "end_time": "2020-10-31T10:04:18.083410Z",
     "start_time": "2020-10-31T10:04:18.063701Z"
    },
    "solution": "shown",
    "solution2": "hidden",
    "solution2_first": true,
    "solution_first": true
   },
   "source": [
    "## (?) Exercise_01: \n",
    "    create an array that looks like this\n",
    "    [[1 1 1 1 1]\n",
    "     [1 0 0 0 1]\n",
    "     [1 0 9 0 1]\n",
    "     [1 0 0 0 1]\n",
    "     [1 1 1 1 1]"
   ]
  },
  {
   "cell_type": "code",
   "execution_count": 33,
   "metadata": {
    "ExecuteTime": {
     "end_time": "2020-11-05T15:16:24.435567Z",
     "start_time": "2020-11-05T15:16:24.350560Z"
    },
    "solution": "shown",
    "solution2": "hidden"
   },
   "outputs": [
    {
     "name": "stdout",
     "output_type": "stream",
     "text": [
      "[[1. 1. 1. 1. 1.]\n",
      " [1. 0. 0. 0. 1.]\n",
      " [1. 0. 9. 0. 1.]\n",
      " [1. 0. 0. 0. 1.]\n",
      " [1. 1. 1. 1. 1.]]\n"
     ]
    }
   ],
   "source": [
    "ex_o = np.ones((5, 5))\n",
    "ex_z = np.zeros((3, 3))\n",
    "ex_z[1, 1] = 9\n",
    "ex_o[1:-1, 1:-1] = ex_z\n",
    "sol = ex_o\n",
    "print(sol)"
   ]
  },
  {
   "cell_type": "markdown",
   "metadata": {},
   "source": [
    " "
   ]
  },
  {
   "cell_type": "markdown",
   "metadata": {},
   "source": [
    "## Mathematical Operations"
   ]
  },
  {
   "cell_type": "markdown",
   "metadata": {},
   "source": [
    "#### Basic Arithmetic Operations\n",
    "\n",
    "> When you perform an operation on an array, the operation gets performed on all the items. It's not same as Matrix operation instead the operation gets executed Element wise.\n",
    "\n",
    "> Read the docs at - https://numpy.org/doc/stable/reference/routines.math.html"
   ]
  },
  {
   "cell_type": "code",
   "execution_count": 34,
   "metadata": {
    "ExecuteTime": {
     "end_time": "2020-11-05T15:16:24.511866Z",
     "start_time": "2020-11-05T15:16:24.437302Z"
    }
   },
   "outputs": [],
   "source": [
    "e = np.array([[1, 2, 3], [4, 5, 6]])"
   ]
  },
  {
   "cell_type": "code",
   "execution_count": 35,
   "metadata": {
    "ExecuteTime": {
     "end_time": "2020-11-05T15:16:24.591272Z",
     "start_time": "2020-11-05T15:16:24.513397Z"
    }
   },
   "outputs": [
    {
     "data": {
      "text/plain": [
       "array([[ 0.54030231, -0.41614684, -0.9899925 ],\n",
       "       [-0.65364362,  0.28366219,  0.96017029]])"
      ]
     },
     "execution_count": 35,
     "metadata": {},
     "output_type": "execute_result"
    }
   ],
   "source": [
    "e % 2\n",
    "np.cos(e)"
   ]
  },
  {
   "cell_type": "markdown",
   "metadata": {},
   "source": [
    "#### Linear Algebraic Operations\n",
    "\n",
    "> The arrays are treated as Matrices and the operations are performed as in Matrices would.\n",
    "\n",
    "> Read the docs at - https://numpy.org/doc/stable/reference/routines.linalg.html"
   ]
  },
  {
   "cell_type": "code",
   "execution_count": 36,
   "metadata": {},
   "outputs": [],
   "source": [
    "# Multiplying two Matrices"
   ]
  },
  {
   "cell_type": "code",
   "execution_count": 37,
   "metadata": {
    "ExecuteTime": {
     "end_time": "2020-11-05T15:16:24.881138Z",
     "start_time": "2020-11-05T15:16:24.668687Z"
    }
   },
   "outputs": [
    {
     "name": "stdout",
     "output_type": "stream",
     "text": [
      "[[9. 9. 9. 9.]\n",
      " [9. 9. 9. 9.]]\n"
     ]
    }
   ],
   "source": [
    "mat_01 = np.ones((2, 3))\n",
    "mat_02 = np.full((3, 4), 3)\n",
    "mul_mat = np.matmul(mat_01, mat_02)\n",
    "print(mul_mat)"
   ]
  },
  {
   "cell_type": "code",
   "execution_count": 38,
   "metadata": {},
   "outputs": [],
   "source": [
    "# Finding the Determinant of a Matrix"
   ]
  },
  {
   "cell_type": "code",
   "execution_count": 39,
   "metadata": {
    "ExecuteTime": {
     "end_time": "2020-11-05T15:16:25.042091Z",
     "start_time": "2020-11-05T15:16:24.886828Z"
    }
   },
   "outputs": [
    {
     "name": "stdout",
     "output_type": "stream",
     "text": [
      "1.0\n"
     ]
    }
   ],
   "source": [
    "mat_03 = np.identity(5)\n",
    "print(np.linalg.det(mat_03))"
   ]
  },
  {
   "cell_type": "markdown",
   "metadata": {},
   "source": [
    "#### Statistical Operations\n",
    "\n",
    "> Read the docs at - https://numpy.org/doc/stable/reference/routines.statistics.html"
   ]
  },
  {
   "cell_type": "code",
   "execution_count": 40,
   "metadata": {
    "ExecuteTime": {
     "end_time": "2020-11-05T15:16:25.144193Z",
     "start_time": "2020-11-05T15:16:25.043364Z"
    }
   },
   "outputs": [
    {
     "name": "stdout",
     "output_type": "stream",
     "text": [
      "[[ 1  7  4]\n",
      " [ 8  5 12]\n",
      " [ 6 13  9]\n",
      " [11 23  1]\n",
      " [31 12  4]]\n"
     ]
    }
   ],
   "source": [
    "stats = np.array([[1, 7, 4], [8, 5, 12], [6, 13, 9], [11, 23, 1], [31, 12, 4]])\n",
    "print(stats)"
   ]
  },
  {
   "cell_type": "markdown",
   "metadata": {},
   "source": [
    "- Order Statistics"
   ]
  },
  {
   "cell_type": "code",
   "execution_count": 41,
   "metadata": {
    "ExecuteTime": {
     "end_time": "2020-11-05T15:16:25.218843Z",
     "start_time": "2020-11-05T15:16:25.150269Z"
    }
   },
   "outputs": [
    {
     "data": {
      "text/plain": [
       "array([ 7, 12, 13, 23, 31])"
      ]
     },
     "execution_count": 41,
     "metadata": {},
     "output_type": "execute_result"
    }
   ],
   "source": [
    "np.amax(stats, axis=1)"
   ]
  },
  {
   "cell_type": "markdown",
   "metadata": {
    "ExecuteTime": {
     "end_time": "2020-11-05T15:16:25.299014Z",
     "start_time": "2020-11-05T15:16:25.221476Z"
    },
    "jupyter": {
     "outputs_hidden": true
    }
   },
   "source": [
    "> A percentile is a measure used in statistics indicating the value below which a given percentage\n",
    "of observations in a group of observations falls. For example, the 20th percentile is the value below\n",
    "which 20% of the observations may be found."
   ]
  },
  {
   "cell_type": "markdown",
   "metadata": {
    "ExecuteTime": {
     "end_time": "2020-11-05T15:16:25.299014Z",
     "start_time": "2020-11-05T15:16:25.221476Z"
    },
    "jupyter": {
     "outputs_hidden": true
    }
   },
   "source": [
    "> https://www.indeed.com/career-advice/career-development/how-to-calculate-percentile"
   ]
  },
  {
   "cell_type": "code",
   "execution_count": 42,
   "metadata": {
    "ExecuteTime": {
     "end_time": "2020-11-05T15:16:25.299014Z",
     "start_time": "2020-11-05T15:16:25.221476Z"
    }
   },
   "outputs": [
    {
     "name": "stdout",
     "output_type": "stream",
     "text": [
      "[ 8. 12.  4.]\n"
     ]
    }
   ],
   "source": [
    "print(np.percentile(stats, 50, axis=0))"
   ]
  },
  {
   "cell_type": "markdown",
   "metadata": {
    "ExecuteTime": {
     "end_time": "2020-11-05T15:16:25.459777Z",
     "start_time": "2020-11-05T15:16:25.301198Z"
    },
    "jupyter": {
     "outputs_hidden": true
    }
   },
   "source": [
    "> quantiles are cut points dividing the range of a probability distribution into continuous intervals\n",
    "with equal probabilities"
   ]
  },
  {
   "cell_type": "code",
   "execution_count": 43,
   "metadata": {
    "ExecuteTime": {
     "end_time": "2020-11-05T15:16:25.459777Z",
     "start_time": "2020-11-05T15:16:25.301198Z"
    }
   },
   "outputs": [
    {
     "name": "stdout",
     "output_type": "stream",
     "text": [
      "[ 4.  8.  9. 11. 12.]\n"
     ]
    }
   ],
   "source": [
    "print(np.quantile(stats, 0.5, axis=1))"
   ]
  },
  {
   "cell_type": "markdown",
   "metadata": {},
   "source": [
    "- Averages and variances"
   ]
  },
  {
   "cell_type": "code",
   "execution_count": 44,
   "metadata": {
    "ExecuteTime": {
     "end_time": "2020-11-05T15:16:25.545182Z",
     "start_time": "2020-11-05T15:16:25.463087Z"
    }
   },
   "outputs": [
    {
     "name": "stdout",
     "output_type": "stream",
     "text": [
      "[11.4 12.   6. ]\n",
      "[ 4.          8.33333333  9.33333333 11.66666667 15.66666667]\n"
     ]
    }
   ],
   "source": [
    "print(np.mean(stats, axis=0))\n",
    "print(np.average(stats, axis=1))"
   ]
  },
  {
   "cell_type": "code",
   "execution_count": 45,
   "metadata": {
    "ExecuteTime": {
     "end_time": "2020-11-05T15:16:25.633132Z",
     "start_time": "2020-11-05T15:16:25.546941Z"
    }
   },
   "outputs": [
    {
     "name": "stdout",
     "output_type": "stream",
     "text": [
      "8.0\n"
     ]
    }
   ],
   "source": [
    "print(np.median(stats))"
   ]
  },
  {
   "cell_type": "markdown",
   "metadata": {},
   "source": [
    "  "
   ]
  },
  {
   "cell_type": "markdown",
   "metadata": {},
   "source": [
    "## Reorganizing Arrays"
   ]
  },
  {
   "cell_type": "markdown",
   "metadata": {},
   "source": [
    "#### Reshaping Arrays"
   ]
  },
  {
   "cell_type": "markdown",
   "metadata": {
    "ExecuteTime": {
     "end_time": "2020-11-05T15:16:25.843147Z",
     "start_time": "2020-11-05T15:16:25.634692Z"
    },
    "jupyter": {
     "outputs_hidden": true
    }
   },
   "source": [
    "> For any arrays that has a shape of - before: (shape of axb) and after: (shape of cxd) ; reshaping works as long as ab = cd."
   ]
  },
  {
   "cell_type": "code",
   "execution_count": 46,
   "metadata": {
    "ExecuteTime": {
     "end_time": "2020-11-05T15:16:25.843147Z",
     "start_time": "2020-11-05T15:16:25.634692Z"
    }
   },
   "outputs": [
    {
     "name": "stdout",
     "output_type": "stream",
     "text": [
      "[[ 1  2]\n",
      " [ 3  4]\n",
      " [ 5  6]\n",
      " [ 7  8]\n",
      " [ 9 10]]\n"
     ]
    }
   ],
   "source": [
    "before = np.array([[1, 2, 3, 4, 5], [6, 7, 8, 9, 10]])\n",
    "after = before.reshape((5, 2))\n",
    "print(after)"
   ]
  },
  {
   "cell_type": "markdown",
   "metadata": {},
   "source": [
    "- Transpose of an Array"
   ]
  },
  {
   "cell_type": "code",
   "execution_count": 47,
   "metadata": {
    "ExecuteTime": {
     "end_time": "2020-11-05T15:16:26.581824Z",
     "start_time": "2020-11-05T15:16:25.844897Z"
    }
   },
   "outputs": [
    {
     "name": "stdout",
     "output_type": "stream",
     "text": [
      "[[ 1  3  5  7  9]\n",
      " [ 2  4  6  8 10]]\n"
     ]
    }
   ],
   "source": [
    "print(after.T)"
   ]
  },
  {
   "cell_type": "markdown",
   "metadata": {},
   "source": [
    "#### Stacking Arrays"
   ]
  },
  {
   "cell_type": "markdown",
   "metadata": {},
   "source": [
    "- Vertical Stacking"
   ]
  },
  {
   "cell_type": "code",
   "execution_count": 48,
   "metadata": {
    "ExecuteTime": {
     "end_time": "2020-11-05T15:16:26.671153Z",
     "start_time": "2020-11-05T15:16:26.583654Z"
    }
   },
   "outputs": [
    {
     "data": {
      "text/plain": [
       "array([[1, 2, 3],\n",
       "       [4, 5, 6],\n",
       "       [7, 8, 9]])"
      ]
     },
     "execution_count": 48,
     "metadata": {},
     "output_type": "execute_result"
    }
   ],
   "source": [
    "# for this to work all the vectors to be stacked must have the same number of columns\n",
    "v1 = np.array([[1, 2, 3], [4, 5, 6]])\n",
    "v2 = np.array([7, 8, 9])\n",
    "np.vstack((v1, v2))"
   ]
  },
  {
   "cell_type": "markdown",
   "metadata": {},
   "source": [
    "- Horizontal Stacking"
   ]
  },
  {
   "cell_type": "code",
   "execution_count": 49,
   "metadata": {
    "ExecuteTime": {
     "end_time": "2020-11-05T15:16:26.754443Z",
     "start_time": "2020-11-05T15:16:26.675680Z"
    }
   },
   "outputs": [
    {
     "data": {
      "text/plain": [
       "array([[ 1,  2,  3,  7,  8,  9, 13],\n",
       "       [ 4,  5,  6, 10, 11, 12, 14]])"
      ]
     },
     "execution_count": 49,
     "metadata": {},
     "output_type": "execute_result"
    }
   ],
   "source": [
    "# for this to work all the vectors to be stacked must have the same number of rows\n",
    "h1 = np.array([[1, 2, 3], [4, 5, 6]])\n",
    "h2 = np.array([[7, 8, 9, 13], [10, 11, 12, 14]])\n",
    "np.hstack((h1, h2))"
   ]
  },
  {
   "cell_type": "markdown",
   "metadata": {},
   "source": [
    " "
   ]
  },
  {
   "cell_type": "markdown",
   "metadata": {},
   "source": [
    "------------------"
   ]
  },
  {
   "cell_type": "markdown",
   "metadata": {},
   "source": [
    "### Load Data from a file"
   ]
  },
  {
   "cell_type": "code",
   "execution_count": 50,
   "metadata": {
    "ExecuteTime": {
     "end_time": "2020-11-05T15:16:26.903546Z",
     "start_time": "2020-11-05T15:16:26.756134Z"
    }
   },
   "outputs": [
    {
     "name": "stdout",
     "output_type": "stream",
     "text": [
      "[[ 1  2  3  4  5  6  7  8  9 10]\n",
      " [11 12 13 14 15 16 17 18 19 20]\n",
      " [21 22 23 24 25 26 27 28 29 30]]\n"
     ]
    }
   ],
   "source": [
    "filedata = np.genfromtxt(\"NumpySampleData.txt\", dtype=\"int32\", delimiter=\",\")\n",
    "print(filedata)"
   ]
  },
  {
   "cell_type": "markdown",
   "metadata": {},
   "source": [
    "---------------"
   ]
  },
  {
   "cell_type": "markdown",
   "metadata": {},
   "source": [
    "## Advanced Indexing"
   ]
  },
  {
   "cell_type": "markdown",
   "metadata": {
    "ExecuteTime": {
     "end_time": "2020-11-01T01:48:29.381364Z",
     "start_time": "2020-11-01T01:48:29.375755Z"
    }
   },
   "source": [
    "- From an existing Array, Grab and Create an Array of values that fulfills some sort of condition(s)"
   ]
  },
  {
   "cell_type": "code",
   "execution_count": 51,
   "metadata": {
    "ExecuteTime": {
     "end_time": "2020-11-05T15:16:26.966884Z",
     "start_time": "2020-11-05T15:16:26.906244Z"
    }
   },
   "outputs": [
    {
     "name": "stdout",
     "output_type": "stream",
     "text": [
      "[14 15 16 17 18 19 20 21 22 23 24 25 26 27 28 29 30]\n"
     ]
    }
   ],
   "source": [
    "new_arr = filedata[(filedata / 2) >= 7]\n",
    "print(new_arr)"
   ]
  },
  {
   "cell_type": "code",
   "execution_count": 52,
   "metadata": {
    "ExecuteTime": {
     "end_time": "2020-11-05T15:16:27.060204Z",
     "start_time": "2020-11-05T15:16:26.971691Z"
    }
   },
   "outputs": [
    {
     "name": "stdout",
     "output_type": "stream",
     "text": [
      "[15 17 22]\n"
     ]
    }
   ],
   "source": [
    "# This works because you can actually index with a list in numpy\n",
    "f = new_arr[[1, 3, 8]]\n",
    "print(f)"
   ]
  },
  {
   "cell_type": "markdown",
   "metadata": {
    "solution": "shown",
    "solution2": "hidden",
    "solution2_first": true,
    "solution_first": true
   },
   "source": [
    "## (?) Exercise_02:\n",
    "    get [2, 8, 14, 20] from the given array - \n",
    "    \n",
    "    g = \n",
    "    [[1,2,3,4,5], \n",
    "    [6,7,8,9,10],\n",
    "    [11,12,13,14,15],\n",
    "    [16,17,18,19,20]]"
   ]
  },
  {
   "cell_type": "code",
   "execution_count": 53,
   "metadata": {
    "ExecuteTime": {
     "end_time": "2020-11-05T15:16:27.158553Z",
     "start_time": "2020-11-05T15:16:27.068139Z"
    },
    "solution": "shown",
    "solution2": "hidden"
   },
   "outputs": [
    {
     "name": "stdout",
     "output_type": "stream",
     "text": [
      "[ 2  8 14 20]\n",
      "[[ 2  3  4  5]\n",
      " [ 7  8  9 10]\n",
      " [12 13 14 15]\n",
      " [17 18 19 20]]\n"
     ]
    }
   ],
   "source": [
    "g = np.array([[1, 2, 3, 4, 5], [6, 7, 8, 9, 10], [11, 12, 13, 14, 15],\n",
    "              [16, 17, 18, 19, 20]])\n",
    "sol_2 = g[[0, 1, 2, 3], [1, 2, 3, 4]]\n",
    "print(sol_2)\n",
    "w_sol = g[0:4, 1:5]\n",
    "print(w_sol)"
   ]
  },
  {
   "cell_type": "code",
   "execution_count": null,
   "metadata": {},
   "outputs": [],
   "source": []
  }
 ],
 "metadata": {
  "kernelspec": {
   "display_name": "Python 3",
   "language": "python",
   "name": "python3"
  },
  "language_info": {
   "codemirror_mode": {
    "name": "ipython",
    "version": 3
   },
   "file_extension": ".py",
   "mimetype": "text/x-python",
   "name": "python",
   "nbconvert_exporter": "python",
   "pygments_lexer": "ipython3",
   "version": "3.8.5"
  },
  "toc": {
   "base_numbering": 1,
   "nav_menu": {},
   "number_sections": true,
   "sideBar": true,
   "skip_h1_title": false,
   "title_cell": "Table of Contents",
   "title_sidebar": "Contents",
   "toc_cell": false,
   "toc_position": {},
   "toc_section_display": true,
   "toc_window_display": false
  }
 },
 "nbformat": 4,
 "nbformat_minor": 4
}
